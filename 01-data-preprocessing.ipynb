{
 "cells": [
  {
   "cell_type": "code",
   "execution_count": 197,
   "id": "d7451954-62ff-405b-bad7-e86910dc1fd0",
   "metadata": {},
   "outputs": [],
   "source": [
    "import numpy as np\n",
    "import pandas as pd\n",
    "import warnings\n",
    "warnings.filterwarnings('ignore')"
   ]
  },
  {
   "cell_type": "code",
   "execution_count": 199,
   "id": "2d528416-8010-4d55-9744-46e5ddd7adc3",
   "metadata": {},
   "outputs": [],
   "source": [
    "movies = pd.read_csv(\"tmdb_5000_movies.csv\")\n",
    "credits = pd.read_csv(\"tmdb_5000_credits.csv\")"
   ]
  },
  {
   "cell_type": "code",
   "execution_count": 200,
   "id": "0d4c36fc-edb8-46d7-9791-b39cd1f5d754",
   "metadata": {},
   "outputs": [
    {
     "name": "stdout",
     "output_type": "stream",
     "text": [
      "<class 'pandas.core.frame.DataFrame'>\n",
      "RangeIndex: 4803 entries, 0 to 4802\n",
      "Data columns (total 20 columns):\n",
      " #   Column                Non-Null Count  Dtype  \n",
      "---  ------                --------------  -----  \n",
      " 0   budget                4803 non-null   int64  \n",
      " 1   genres                4803 non-null   object \n",
      " 2   homepage              1712 non-null   object \n",
      " 3   id                    4803 non-null   int64  \n",
      " 4   keywords              4803 non-null   object \n",
      " 5   original_language     4803 non-null   object \n",
      " 6   original_title        4803 non-null   object \n",
      " 7   overview              4800 non-null   object \n",
      " 8   popularity            4803 non-null   float64\n",
      " 9   production_companies  4803 non-null   object \n",
      " 10  production_countries  4803 non-null   object \n",
      " 11  release_date          4802 non-null   object \n",
      " 12  revenue               4803 non-null   int64  \n",
      " 13  runtime               4801 non-null   float64\n",
      " 14  spoken_languages      4803 non-null   object \n",
      " 15  status                4803 non-null   object \n",
      " 16  tagline               3959 non-null   object \n",
      " 17  title                 4803 non-null   object \n",
      " 18  vote_average          4803 non-null   float64\n",
      " 19  vote_count            4803 non-null   int64  \n",
      "dtypes: float64(3), int64(4), object(13)\n",
      "memory usage: 750.6+ KB\n"
     ]
    }
   ],
   "source": [
    "movies.info()"
   ]
  },
  {
   "cell_type": "code",
   "execution_count": 203,
   "id": "74ddca70-63b4-4687-a2e9-3235df91bb1f",
   "metadata": {},
   "outputs": [
    {
     "data": {
      "text/plain": [
       "(4803, 4)"
      ]
     },
     "execution_count": 203,
     "metadata": {},
     "output_type": "execute_result"
    }
   ],
   "source": [
    "credits.shape"
   ]
  },
  {
   "cell_type": "code",
   "execution_count": 205,
   "id": "c0a4221e-4b09-4e05-85f1-df3d200660d0",
   "metadata": {},
   "outputs": [
    {
     "name": "stdout",
     "output_type": "stream",
     "text": [
      "<class 'pandas.core.frame.DataFrame'>\n",
      "RangeIndex: 4803 entries, 0 to 4802\n",
      "Data columns (total 4 columns):\n",
      " #   Column    Non-Null Count  Dtype \n",
      "---  ------    --------------  ----- \n",
      " 0   movie_id  4803 non-null   int64 \n",
      " 1   title     4803 non-null   object\n",
      " 2   cast      4803 non-null   object\n",
      " 3   crew      4803 non-null   object\n",
      "dtypes: int64(1), object(3)\n",
      "memory usage: 150.2+ KB\n"
     ]
    }
   ],
   "source": [
    "credits.info()"
   ]
  },
  {
   "cell_type": "code",
   "execution_count": 207,
   "id": "f9ed1a97-c972-4bf4-9a27-f729de85b761",
   "metadata": {},
   "outputs": [],
   "source": [
    "merged_df = pd.merge(movies, credits, left_on='id', right_on='movie_id', how='inner')"
   ]
  },
  {
   "cell_type": "code",
   "execution_count": 209,
   "id": "1b2e2181-6fba-4729-acab-bf65f710c9a2",
   "metadata": {},
   "outputs": [
    {
     "data": {
      "text/plain": [
       "(4803, 24)"
      ]
     },
     "execution_count": 209,
     "metadata": {},
     "output_type": "execute_result"
    }
   ],
   "source": [
    "merged_df.shape"
   ]
  },
  {
   "cell_type": "code",
   "execution_count": 217,
   "id": "e12d3332-2b34-4249-bbcc-3718f157f3a9",
   "metadata": {},
   "outputs": [],
   "source": [
    "new_df = merged_df[['id', 'genres', 'keywords', 'overview', 'title_x', 'cast', 'crew', 'production_companies']]"
   ]
  },
  {
   "cell_type": "code",
   "execution_count": 219,
   "id": "7464e31f-ed13-43a0-bbda-969761eeb808",
   "metadata": {},
   "outputs": [],
   "source": [
    "new_df = new_df.rename(columns = {'title_x':'title'})"
   ]
  },
  {
   "cell_type": "code",
   "execution_count": 221,
   "id": "3d67643d-e43d-4bd2-a57a-24f506e09b6f",
   "metadata": {},
   "outputs": [],
   "source": [
    "import ast\n",
    "def get_names(obj):\n",
    "    x = ast.literal_eval(obj)\n",
    "    keywords = []\n",
    "    for r in x:\n",
    "        name = r[\"name\"].replace(\" \", \"_\").lower().strip()\n",
    "        if name not in keywords:\n",
    "            keywords.append(name)\n",
    "    return \",\".join(keywords)"
   ]
  },
  {
   "cell_type": "code",
   "execution_count": 223,
   "id": "040264cc-c4b4-4375-bdb0-a3a0b48b31ed",
   "metadata": {},
   "outputs": [],
   "source": [
    "new_df[\"genres\"] = new_df[\"genres\"].apply(get_names)"
   ]
  },
  {
   "cell_type": "code",
   "execution_count": 225,
   "id": "90c323d4-9a63-4b20-8bd9-f20d88300dbe",
   "metadata": {},
   "outputs": [],
   "source": [
    "new_df[\"keywords\"] = new_df[\"keywords\"].apply(get_names)"
   ]
  },
  {
   "cell_type": "code",
   "execution_count": 227,
   "id": "5557c39e-0786-46cc-bea9-aecbe6b1a3ca",
   "metadata": {},
   "outputs": [],
   "source": [
    "new_df[\"cast\"] = new_df[\"cast\"].apply(get_names)"
   ]
  },
  {
   "cell_type": "code",
   "execution_count": 228,
   "id": "9089817b-0797-4502-beb9-b95088fce904",
   "metadata": {},
   "outputs": [],
   "source": [
    "new_df[\"crew\"] = new_df[\"crew\"].apply(get_names)"
   ]
  },
  {
   "cell_type": "code",
   "execution_count": 229,
   "id": "f242954d-b618-43dd-a35a-2490209d8490",
   "metadata": {},
   "outputs": [],
   "source": [
    "new_df[\"production_companies\"] = new_df[\"production_companies\"].apply(get_names)"
   ]
  },
  {
   "cell_type": "code",
   "execution_count": 230,
   "id": "afed416a-cc69-41d3-a5e4-109baf9aa425",
   "metadata": {},
   "outputs": [
    {
     "name": "stdout",
     "output_type": "stream",
     "text": [
      "<class 'pandas.core.frame.DataFrame'>\n",
      "RangeIndex: 4803 entries, 0 to 4802\n",
      "Data columns (total 8 columns):\n",
      " #   Column                Non-Null Count  Dtype \n",
      "---  ------                --------------  ----- \n",
      " 0   id                    4803 non-null   int64 \n",
      " 1   genres                4803 non-null   object\n",
      " 2   keywords              4803 non-null   object\n",
      " 3   overview              4800 non-null   object\n",
      " 4   title                 4803 non-null   object\n",
      " 5   cast                  4803 non-null   object\n",
      " 6   crew                  4803 non-null   object\n",
      " 7   production_companies  4803 non-null   object\n",
      "dtypes: int64(1), object(7)\n",
      "memory usage: 300.3+ KB\n"
     ]
    }
   ],
   "source": [
    "new_df.info()"
   ]
  },
  {
   "cell_type": "code",
   "execution_count": 235,
   "id": "c1fffab9-06b0-4d30-9f88-d703595d6ad1",
   "metadata": {},
   "outputs": [],
   "source": [
    "new_df[\"overview\"] = new_df[\"overview\"].apply(lambda x:str(x).replace(\",\", \"\").replace(\" \", \",\").lower())"
   ]
  },
  {
   "cell_type": "code",
   "execution_count": 237,
   "id": "f4958de0-31e4-4377-92f8-363977178a14",
   "metadata": {},
   "outputs": [
    {
     "name": "stdout",
     "output_type": "stream",
     "text": [
      "<class 'pandas.core.frame.DataFrame'>\n",
      "RangeIndex: 4803 entries, 0 to 4802\n",
      "Data columns (total 8 columns):\n",
      " #   Column                Non-Null Count  Dtype \n",
      "---  ------                --------------  ----- \n",
      " 0   id                    4803 non-null   int64 \n",
      " 1   genres                4803 non-null   object\n",
      " 2   keywords              4803 non-null   object\n",
      " 3   overview              4803 non-null   object\n",
      " 4   title                 4803 non-null   object\n",
      " 5   cast                  4803 non-null   object\n",
      " 6   crew                  4803 non-null   object\n",
      " 7   production_companies  4803 non-null   object\n",
      "dtypes: int64(1), object(7)\n",
      "memory usage: 300.3+ KB\n"
     ]
    }
   ],
   "source": [
    "new_df.info()"
   ]
  },
  {
   "cell_type": "code",
   "execution_count": 239,
   "id": "b6144926-9210-4686-8972-7d1e5acd02ca",
   "metadata": {},
   "outputs": [],
   "source": [
    "new_df[\"tags\"] = new_df[\"genres\"] + \",\" + new_df[\"keywords\"] + \",\" + new_df[\"overview\"] + \",\" + new_df[\"cast\"] + \",\" + new_df[\"crew\"] + new_df[\"production_companies\"]"
   ]
  },
  {
   "cell_type": "code",
   "execution_count": 241,
   "id": "dda8c501-f14c-4983-80d8-18288a3b11bf",
   "metadata": {},
   "outputs": [],
   "source": [
    "final_df = new_df[[\"id\", \"title\", \"tags\"]]"
   ]
  },
  {
   "cell_type": "code",
   "execution_count": 243,
   "id": "024b8190-c7de-440f-8a2b-2bfb4bc2f9fa",
   "metadata": {},
   "outputs": [],
   "source": [
    "final_df.dropna(inplace = True)"
   ]
  },
  {
   "cell_type": "code",
   "execution_count": 245,
   "id": "3d3445ed-b47d-48e7-b8ad-09e0a7c4aef7",
   "metadata": {},
   "outputs": [],
   "source": [
    "final_df.drop_duplicates(inplace = True)"
   ]
  },
  {
   "cell_type": "code",
   "execution_count": 247,
   "id": "d021b1d6-f0f0-44c9-bfc3-910f59519018",
   "metadata": {},
   "outputs": [
    {
     "name": "stderr",
     "output_type": "stream",
     "text": [
      "[nltk_data] Downloading package stopwords to\n",
      "[nltk_data]     C:\\Users\\Abhijit\\AppData\\Roaming\\nltk_data...\n",
      "[nltk_data]   Package stopwords is already up-to-date!\n",
      "[nltk_data] Downloading package punkt to\n",
      "[nltk_data]     C:\\Users\\Abhijit\\AppData\\Roaming\\nltk_data...\n",
      "[nltk_data]   Package punkt is already up-to-date!\n",
      "[nltk_data] Downloading package punkt_tab to\n",
      "[nltk_data]     C:\\Users\\Abhijit\\AppData\\Roaming\\nltk_data...\n",
      "[nltk_data]   Package punkt_tab is already up-to-date!\n"
     ]
    },
    {
     "data": {
      "text/plain": [
       "True"
      ]
     },
     "execution_count": 247,
     "metadata": {},
     "output_type": "execute_result"
    }
   ],
   "source": [
    "#remove stopwords\n",
    "import nltk\n",
    "from nltk.corpus import stopwords\n",
    "from nltk.tokenize import word_tokenize\n",
    "# Download stopwords if not already available\n",
    "nltk.download('stopwords')\n",
    "nltk.download('punkt')\n",
    "nltk.download('punkt_tab')"
   ]
  },
  {
   "cell_type": "code",
   "execution_count": 249,
   "id": "5c4418fa-4503-423a-8752-96a57d88ee11",
   "metadata": {},
   "outputs": [],
   "source": [
    "def remove_stop_words(text):\n",
    "    # Get the English stopwords list\n",
    "    stop_words = set(stopwords.words('english'))\n",
    "    # Tokenize the sentence\n",
    "    words = text.split(',')\n",
    "    # Remove stopwords\n",
    "    filtered_words = [word for word in words if word.lower() not in stop_words]\n",
    "    # # Convert back to string\n",
    "    filtered_text = \",\".join(filtered_words)\n",
    "    return filtered_text"
   ]
  },
  {
   "cell_type": "code",
   "execution_count": 251,
   "id": "84e5d433-1914-444a-b3b4-e26f4f7aa5fc",
   "metadata": {},
   "outputs": [],
   "source": [
    "final_df[\"tags\"] = final_df[\"tags\"].apply(remove_stop_words)"
   ]
  },
  {
   "cell_type": "code",
   "execution_count": 253,
   "id": "ee8f1cf7-c47c-4dcc-b25c-924fefb1b101",
   "metadata": {},
   "outputs": [],
   "source": [
    "final_df.to_csv(\"cleaned_data.csv\")"
   ]
  },
  {
   "cell_type": "code",
   "execution_count": null,
   "id": "f5ffdb66-9d50-472b-a0f6-2b082def3111",
   "metadata": {},
   "outputs": [],
   "source": []
  }
 ],
 "metadata": {
  "kernelspec": {
   "display_name": "Python [conda env:base] *",
   "language": "python",
   "name": "conda-base-py"
  },
  "language_info": {
   "codemirror_mode": {
    "name": "ipython",
    "version": 3
   },
   "file_extension": ".py",
   "mimetype": "text/x-python",
   "name": "python",
   "nbconvert_exporter": "python",
   "pygments_lexer": "ipython3",
   "version": "3.12.7"
  }
 },
 "nbformat": 4,
 "nbformat_minor": 5
}
